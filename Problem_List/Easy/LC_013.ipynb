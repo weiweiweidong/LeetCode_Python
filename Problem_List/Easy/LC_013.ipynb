{
 "cells": [
  {
   "cell_type": "code",
   "execution_count": null,
   "metadata": {},
   "outputs": [],
   "source": [
    "class Solution:\n",
    "    def romanToInt(self, s: str) -> int:\n",
    "        ROMAN = {\n",
    "            'I' : 1,\n",
    "            'V' : 5,\n",
    "            'X' : 10,\n",
    "            'L' : 50,\n",
    "            'C' : 100,\n",
    "            'D' : 500,\n",
    "            'M' : 1000,\n",
    "        }\n",
    "\n",
    "        # 题目最大的难点是处理六种特殊规则，但这六种规则可以统一在一起：\n",
    "        # 设 x = s[i-1] , y = s[i] 是前后相邻的两个罗马数字\n",
    "        # 如果 x 数值小于 y，那么 x 的数值要取相反数\n",
    "        res = 0\n",
    "        for x , y in pairwise(s):\n",
    "            x , y = ROMAN[x] , ROMAN[y]\n",
    "            res += x if x >= y else -x\n",
    "        \n",
    "        return res + ROMAN[s[-1]]"
   ]
  }
 ],
 "metadata": {
  "kernelspec": {
   "display_name": "time_series",
   "language": "python",
   "name": "python3"
  },
  "language_info": {
   "name": "python",
   "version": "3.12.4"
  }
 },
 "nbformat": 4,
 "nbformat_minor": 2
}
