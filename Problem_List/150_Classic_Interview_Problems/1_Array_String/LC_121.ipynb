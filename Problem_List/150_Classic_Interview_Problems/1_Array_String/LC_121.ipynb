{
 "cells": [
  {
   "cell_type": "code",
   "execution_count": null,
   "metadata": {
    "vscode": {
     "languageId": "plaintext"
    }
   },
   "outputs": [],
   "source": [
    "class Solution:\n",
    "    def maxProfit(self, prices: List[int]) -> int:\n",
    "        cost , profit = float('+inf') , 0\n",
    "        for price in prices:\n",
    "            cost = min( cost  , price)\n",
    "            profit = max( profit , price - cost)\n",
    "        return profit"
   ]
  }
 ],
 "metadata": {
  "language_info": {
   "name": "python"
  }
 },
 "nbformat": 4,
 "nbformat_minor": 2
}
