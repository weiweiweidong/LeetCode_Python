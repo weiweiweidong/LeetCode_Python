{
 "cells": [
  {
   "cell_type": "code",
   "execution_count": null,
   "metadata": {},
   "outputs": [],
   "source": [
    "class Solution:\n",
    "    def lengthOfLongestSubstring(self, s: str) -> int:\n",
    "        res = left= 0\n",
    "        cnt = defaultdict(int)\n",
    "        for right , c in enumerate(s):\n",
    "            cnt[c] += 1\n",
    "            while cnt[c] > 1:\n",
    "                cnt[ s[left] ] -= 1\n",
    "                left += 1\n",
    "            res = max( res , right - left + 1 )\n",
    "        return res"
   ]
  }
 ],
 "metadata": {
  "kernelspec": {
   "display_name": "time_series",
   "language": "python",
   "name": "python3"
  },
  "language_info": {
   "name": "python",
   "version": "3.12.4"
  }
 },
 "nbformat": 4,
 "nbformat_minor": 2
}
