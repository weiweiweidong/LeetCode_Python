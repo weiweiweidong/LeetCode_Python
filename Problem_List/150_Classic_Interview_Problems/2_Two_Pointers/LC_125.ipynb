{
 "cells": [
  {
   "cell_type": "code",
   "execution_count": null,
   "metadata": {},
   "outputs": [],
   "source": [
    "class Solution:\n",
    "    def isPalindrome(self, s: str) -> bool:\n",
    "        # 备注：str.isalnum() 用于检查字符串是否只包含子母和数字\n",
    "        i , j = 0 , len(s)-1\n",
    "        while i < j :\n",
    "            if not s[i].isalnum():\n",
    "                i += 1\n",
    "            elif not s[j].isalnum():\n",
    "                j -= 1\n",
    "            elif s[i].lower() == s[j].lower():\n",
    "                i += 1\n",
    "                j -= 1\n",
    "            else:\n",
    "                return False\n",
    "        return True"
   ]
  }
 ],
 "metadata": {
  "kernelspec": {
   "display_name": "time_series",
   "language": "python",
   "name": "python3"
  },
  "language_info": {
   "name": "python",
   "version": "3.12.4"
  }
 },
 "nbformat": 4,
 "nbformat_minor": 2
}
