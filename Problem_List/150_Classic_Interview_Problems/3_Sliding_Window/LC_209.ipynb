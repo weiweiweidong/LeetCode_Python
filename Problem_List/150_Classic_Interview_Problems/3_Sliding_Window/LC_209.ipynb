{
 "cells": [
  {
   "cell_type": "markdown",
   "metadata": {},
   "source": [
    "Method 1:"
   ]
  },
  {
   "cell_type": "code",
   "execution_count": null,
   "metadata": {},
   "outputs": [],
   "source": [
    "class Solution:\n",
    "    def minSubArrayLen(self, target: int, nums: List[int]) -> int:\n",
    "        n = len(nums)\n",
    "        res = n+1\n",
    "        s = left = 0\n",
    "        for right , x in enumerate(nums):\n",
    "            s += x\n",
    "            while s - nums[left] >= target :\n",
    "                s -= nums[left]\n",
    "                left += 1\n",
    "            if s >= target:\n",
    "                res = min( res , right - left + 1)\n",
    "        return res if res <= n else 0"
   ]
  },
  {
   "cell_type": "markdown",
   "metadata": {},
   "source": [
    "Method 2: \n",
    "\n",
    "更推荐这种写法。"
   ]
  },
  {
   "cell_type": "code",
   "execution_count": null,
   "metadata": {},
   "outputs": [],
   "source": [
    "class Solution:\n",
    "    def minSubArrayLen(self, target: int, nums: List[int]) -> int:\n",
    "        n = len(nums)\n",
    "        res = n + 1\n",
    "        s = left = 0\n",
    "\n",
    "        for right , x in enumerate(nums):\n",
    "            s += x\n",
    "            while s >= target:\n",
    "                res = min(res , right - left + 1)\n",
    "                s -= nums[left]\n",
    "                left += 1\n",
    "\n",
    "        return res if res <= n else 0"
   ]
  }
 ],
 "metadata": {
  "kernelspec": {
   "display_name": "time_series",
   "language": "python",
   "name": "python3"
  },
  "language_info": {
   "name": "python",
   "version": "3.12.4"
  }
 },
 "nbformat": 4,
 "nbformat_minor": 2
}
