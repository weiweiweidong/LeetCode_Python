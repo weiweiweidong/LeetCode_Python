{
 "cells": [
  {
   "cell_type": "markdown",
   "metadata": {},
   "source": [
    "使用贪心的思路。\n",
    "\n",
    "题目相当于是每天都能进行一次买卖。如果收益为负，就忽略这一天的交易；如果收益为正数，就把当天的交易计入总收益。"
   ]
  },
  {
   "cell_type": "code",
   "execution_count": null,
   "metadata": {
    "vscode": {
     "languageId": "plaintext"
    }
   },
   "outputs": [],
   "source": [
    "class Solution:\n",
    "    def maxProfit(self, prices: List[int]) -> int:\n",
    "        profit = 0\n",
    "        for i in range(1 , len(prices)):\n",
    "            tmp = prices[i] - prices[i-1]\n",
    "            if tmp > 0:\n",
    "                profit += tmp\n",
    "        return profit"
   ]
  }
 ],
 "metadata": {
  "language_info": {
   "name": "python"
  }
 },
 "nbformat": 4,
 "nbformat_minor": 2
}
