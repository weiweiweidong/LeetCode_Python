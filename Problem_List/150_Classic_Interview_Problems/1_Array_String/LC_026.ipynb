{
 "cells": [
  {
   "cell_type": "markdown",
   "metadata": {},
   "source": [
    "Method 1:"
   ]
  },
  {
   "cell_type": "code",
   "execution_count": null,
   "metadata": {},
   "outputs": [],
   "source": [
    "class Solution:\n",
    "    def removeDuplicates(self, nums: List[int]) -> int:\n",
    "        # 使用 set 来判断元素是否出现过\n",
    "        s = set()\n",
    "        p = 0\n",
    "        for x in nums:\n",
    "            if x not in s:\n",
    "                nums[p] = x\n",
    "                s.add(x)\n",
    "                p += 1\n",
    "        return p"
   ]
  },
  {
   "cell_type": "markdown",
   "metadata": {},
   "source": [
    "Method 2:"
   ]
  },
  {
   "cell_type": "code",
   "execution_count": null,
   "metadata": {},
   "outputs": [],
   "source": [
    "class Solution:\n",
    "    def removeDuplicates(self, nums: List[int]) -> int:\n",
    "        # p=1 相当于默认把第一个元素保存下来了\n",
    "        p = 1\n",
    "        for i in range(1 , len(nums)):\n",
    "            # 只要后面和前面的元素不一样，就把后面的元素保存下来\n",
    "            if nums[i] != nums[i-1]:\n",
    "                nums[p] = nums[i]\n",
    "                p += 1\n",
    "        return p"
   ]
  }
 ],
 "metadata": {
  "kernelspec": {
   "display_name": "time_series",
   "language": "python",
   "name": "python3"
  },
  "language_info": {
   "name": "python",
   "version": "3.12.4"
  }
 },
 "nbformat": 4,
 "nbformat_minor": 2
}
