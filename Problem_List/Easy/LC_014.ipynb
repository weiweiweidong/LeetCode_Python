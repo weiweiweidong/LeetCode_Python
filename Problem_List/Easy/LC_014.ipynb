{
 "cells": [
  {
   "cell_type": "code",
   "execution_count": null,
   "metadata": {},
   "outputs": [],
   "source": [
    "class Solution:\n",
    "    def longestCommonPrefix(self, strs: List[str]) -> str:\n",
    "        s0 = strs[0]\n",
    "        for j,c in enumerate(s0):\n",
    "            for s in strs:\n",
    "                if j == len(s) or s[j] != c:\n",
    "                    return s0[:j]\n",
    "        return s0"
   ]
  }
 ],
 "metadata": {
  "kernelspec": {
   "display_name": "time_series",
   "language": "python",
   "name": "python3"
  },
  "language_info": {
   "name": "python",
   "version": "3.12.4"
  }
 },
 "nbformat": 4,
 "nbformat_minor": 2
}
