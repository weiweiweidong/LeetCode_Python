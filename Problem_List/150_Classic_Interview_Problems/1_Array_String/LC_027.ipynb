{
 "cells": [
  {
   "cell_type": "code",
   "execution_count": null,
   "metadata": {
    "vscode": {
     "languageId": "plaintext"
    }
   },
   "outputs": [],
   "source": [
    "class Solution:\n",
    "    def removeElement(self, nums: List[int], val: int) -> int:\n",
    "        p = 0\n",
    "        for x in nums:\n",
    "            if x != val:\n",
    "                nums[p] = x\n",
    "                p += 1\n",
    "        return p"
   ]
  }
 ],
 "metadata": {
  "language_info": {
   "name": "python"
  }
 },
 "nbformat": 4,
 "nbformat_minor": 2
}
